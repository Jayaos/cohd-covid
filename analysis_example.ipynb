{
 "cells": [
  {
   "cell_type": "code",
   "execution_count": 1,
   "metadata": {},
   "outputs": [],
   "source": [
    "from prevalence.analysis import *"
   ]
  },
  {
   "cell_type": "markdown",
   "metadata": {},
   "source": [
    "### build concept definition dictionary"
   ]
  },
  {
   "cell_type": "code",
   "execution_count": 2,
   "metadata": {},
   "outputs": [],
   "source": [
    "concept_definition_dict = build_concept_dict(\"../concepts.txt\")"
   ]
  },
  {
   "cell_type": "markdown",
   "metadata": {},
   "source": [
    "### build concept count and prevalence dictionaries "
   ]
  },
  {
   "cell_type": "code",
   "execution_count": 3,
   "metadata": {},
   "outputs": [],
   "source": [
    "covid_full_hierarchical_count, covid_full_hierarchical_prevalence = build_prevalence_dict(\"../file_path\", 3511)\n",
    "covid_full_nonhierarchical_count, covid_full_nonhierarchical_prevalence = build_prevalence_dict(\"../file_path\", 3511)\n",
    "\n",
    "covid_male_hierarchical_count, covid_male_hierarchical_prevalence = build_prevalence_dict(\"../file_path\", 1924)\n",
    "covid_male_nonhierarchical_count, covid_male_nonhierarchical_prevalence = build_prevalence_dict(\"../file_path\", 1924)\n",
    "\n",
    "covid_female_hierarchical_count, covid_female_hierarchical_prevalence = build_prevalence_dict(\"../file_path\", 1587)\n",
    "covid_female_nonhierarchical_count, covid_female_nonhierarchical_prevalence = build_prevalence_dict(\"../file_path\", 1587)\n",
    "\n",
    "covid_adult_hierarchical_count, covid_adult_hierarchical_prevalence = build_prevalence_dict(\"../file_path\", 1619)\n",
    "covid_adult_nonhierarchical_count, covid_adult_nonhierarchical_prevalence = build_prevalence_dict(\"../file_path\", 1619)\n",
    "\n",
    "covid_senior_hierarchical_count, covid_senior_hierarchical_prevalence = build_prevalence_dict(\"../file_path\", 1892)\n",
    "covid_senior_nonhierarchical_count, covid_senior_nonhierarchical_prevalence = build_prevalence_dict(\"../file_path\", 1892)"
   ]
  },
  {
   "cell_type": "code",
   "execution_count": 4,
   "metadata": {},
   "outputs": [],
   "source": [
    "influenza_hierarchical_count, influenza_hierarchical_prevalence = build_prevalence_dict(\"../file_path\", 3863)\n",
    "influenza_nonhierarchical_count, influenza_nonhierarchical_prevalence = build_prevalence_dict(\"../file_path\", 3863)\n",
    "\n",
    "general_hierarchical_count, general_hierarchical_prevalence = build_prevalence_dict(\"../file_path\", 314490)\n",
    "general_nonhierarchical_count, general_nonhierarchical_prevalence = build_prevalence_dict(\"../file_path\", 314490)"
   ]
  },
  {
   "cell_type": "markdown",
   "metadata": {},
   "source": [
    "### build concept prevalence ratio dictionary"
   ]
  },
  {
   "cell_type": "code",
   "execution_count": 5,
   "metadata": {},
   "outputs": [
    {
     "name": "stdout",
     "output_type": "stream",
     "text": [
      "build prevalence ratio dictionary for condition concepts...\n",
      "build prevalence ratio dictionary for drug concepts...\n",
      "build prevalence ratio dictionary for drug ingredient concepts...\n",
      "build prevalence ratio dictionary for procedure concepts...\n"
     ]
    }
   ],
   "source": [
    "covid_influenza_ratio_dict = build_ratio_dict(covid_full_nonhierarchical_prevalence, influenza_nonhierarchical_prevalence, concept_definition_dict)"
   ]
  },
  {
   "cell_type": "code",
   "execution_count": 6,
   "metadata": {},
   "outputs": [
    {
     "name": "stdout",
     "output_type": "stream",
     "text": [
      "build prevalence ratio dictionary for condition concepts...\n",
      "build prevalence ratio dictionary for drug concepts...\n",
      "build prevalence ratio dictionary for drug ingredient concepts...\n",
      "build prevalence ratio dictionary for procedure concepts...\n"
     ]
    }
   ],
   "source": [
    "covid_general_ratio_dict = build_ratio_dict(covid_full_nonhierarchical_prevalence, general_hierarchical_prevalence, concept_definition_dict)"
   ]
  },
  {
   "cell_type": "markdown",
   "metadata": {},
   "source": [
    "### build concept pair prevalence dictionary"
   ]
  },
  {
   "cell_type": "code",
   "execution_count": 7,
   "metadata": {},
   "outputs": [],
   "source": [
    "covid_pair_prevalence_dict = build_pair_prevalence_dict(\"../file_path\", 3511)"
   ]
  },
  {
   "cell_type": "markdown",
   "metadata": {},
   "source": [
    "### Use case 1: Concept prevalence analysis on the COVID-19 cohort and its sub-cohorts"
   ]
  },
  {
   "cell_type": "code",
   "execution_count": 8,
   "metadata": {},
   "outputs": [
    {
     "name": "stdout",
     "output_type": "stream",
     "text": [
      "Rank 1 : 4100065, Disease due to Coronaviridae, 0.42210196525206495\n",
      "Rank 2 : 312437, Dyspnea, 0.2976360011392766\n",
      "Rank 3 : 4307774, Acute lower respiratory tract infection, 0.2890914269438906\n",
      "Rank 4 : 37311061, Disease caused by severe acute respiratory syndrome coronavirus 2, 0.1828538877812589\n",
      "Rank 5 : 437390, Hypoxemia, 0.1819994303617203\n",
      "Rank 6 : 320136, Disorder of respiratory system, 0.17373967530618056\n",
      "Rank 7 : 254761, Cough, 0.13215608088863573\n",
      "Rank 8 : 46271075, Acute hypoxemic respiratory failure, 0.12788379379094275\n",
      "Rank 9 : 320128, Essential hypertension, 0.12104813443463401\n",
      "Rank 10 : 197320, Acute renal failure syndrome, 0.11620620905724864\n"
     ]
    }
   ],
   "source": [
    "get_prevalence_rank(covid_full_nonhierarchical_prevalence, concept_definition_dict, top_n=10, domain=\"condition\")"
   ]
  },
  {
   "cell_type": "code",
   "execution_count": 9,
   "metadata": {},
   "outputs": [
    {
     "name": "stdout",
     "output_type": "stream",
     "text": [
      "Rank 1 : 1125315, Acetaminophen, 0.8339504414696668\n",
      "Rank 2 : 1301025, Enoxaparin, 0.6462546283110225\n",
      "Rank 3 : 1560524, Glucose, 0.4930219310737682\n",
      "Rank 4 : 1777087, Hydroxychloroquine, 0.4622614639703788\n",
      "Rank 5 : 1777806, Ceftriaxone, 0.38507547707205925\n",
      "Rank 6 : 967823, Sodium Chloride, 0.3725434349188265\n",
      "Rank 7 : 19049105, Potassium Chloride, 0.35887211620620907\n",
      "Rank 8 : 1550023, Insulin Lispro, 0.3531757334092851\n",
      "Rank 9 : 1367571, heparin, 0.3503275420108231\n",
      "Rank 10 : 938268, sennosides, USP, 0.31187695813158645\n"
     ]
    }
   ],
   "source": [
    "get_prevalence_rank(covid_full_hierarchical_prevalence, concept_definition_dict, top_n=10, domain=\"drug_ingredient\")"
   ]
  },
  {
   "cell_type": "markdown",
   "metadata": {},
   "source": [
    "### Use case 2: Concept prevalence ratio analysis"
   ]
  },
  {
   "cell_type": "code",
   "execution_count": 10,
   "metadata": {},
   "outputs": [
    {
     "name": "stdout",
     "output_type": "stream",
     "text": [
      "Rank 1 : Disease due to Coronaviridae, 4.946073021656828\n",
      "Rank 2 : Patient status finding, 4.861801977873769\n",
      "Rank 3 : Outcome of delivery - finding, 4.622884753456181\n",
      "Rank 4 : Chest pain on breathing, 4.541571397581189\n",
      "Rank 5 : Acute respiratory distress syndrome, 4.271042404355657\n",
      "Rank 6 : Acute lower respiratory tract infection, 3.846221624570913\n",
      "Rank 7 : Unplanned pregnancy, 3.78686632402181\n",
      "Rank 8 : Deliveries by cesarean, 3.6012335059241996\n",
      "Rank 9 : Acute respiratory distress, 3.4568970623153\n",
      "Rank 10 : Viral pneumonia, 3.253830830153599\n"
     ]
    }
   ],
   "source": [
    "get_ratio_rank(covid_general_ratio_dict, concept_definition_dict, 10, \"condition\")"
   ]
  },
  {
   "cell_type": "code",
   "execution_count": 11,
   "metadata": {},
   "outputs": [
    {
     "name": "stdout",
     "output_type": "stream",
     "text": [
      "Rank 1 : Disease due to Coronaviridae, 3.504870694243255\n",
      "Rank 2 : Disorientated, 2.258866212158387\n",
      "Rank 3 : Acute respiratory distress syndrome, 2.1706650670331684\n",
      "Rank 4 : Acute respiratory distress, 1.9794179446337097\n",
      "Rank 5 : Viral pneumonia, 1.873547280657419\n",
      "Rank 6 : Cerebral infarction, 1.6070006905717455\n",
      "Rank 7 : Blood chemistry abnormal, 1.5489768504553683\n",
      "Rank 8 : Shock, 1.2741981828394953\n",
      "Rank 9 : Cough, 1.0043191218695178\n",
      "Rank 10 : Embolism from thrombosis of vein of lower extremity, 0.996329731836039\n"
     ]
    }
   ],
   "source": [
    "get_ratio_rank(covid_influenza_ratio_dict, concept_definition_dict, 10, \"condition\")"
   ]
  },
  {
   "cell_type": "markdown",
   "metadata": {},
   "source": [
    "### Use case 3: Symptom prevalence analysis\n",
    "\n",
    "The prevalence can be directly obtained from corresponding Data Citation in the paper."
   ]
  },
  {
   "cell_type": "markdown",
   "metadata": {},
   "source": [
    "### Use case 4: Co-occurrence analysis of the COVID-19 cohort"
   ]
  },
  {
   "cell_type": "code",
   "execution_count": 12,
   "metadata": {},
   "outputs": [
    {
     "name": "stdout",
     "output_type": "stream",
     "text": [
      "Rank 1 : Disease due to Coronaviridae, 0.09968669894616919\n",
      "Rank 2 : Acetaminophen 325 MG Oral Tablet, 0.09626886926801481\n",
      "Rank 3 : Infectious agent detection by nucleic acid (DNA or RNA); severe acute respiratory syndrome coronavirus 2 (SARS-CoV-2) (Coronavirus disease [COVID-19]), amplified probe technique, 0.09313585872970663\n",
      "Rank 4 : Radiologic examination, chest; single view, 0.0848761036741669\n",
      "Rank 5 : Hydroxychloroquine Sulfate 200 MG Oral Tablet, 0.0731985189404728\n",
      "Rank 6 : 0.4 ML Enoxaparin sodium 100 MG/ML Prefilled Syringe, 0.07177442324124181\n",
      "Rank 7 : Ceftriaxone 1000 MG Injection, 0.05924238108800912\n",
      "Rank 8 : 50 ML Glucose 500 MG/ML Prefilled Syringe, 0.04784961549416121\n",
      "Rank 9 : Glucose 0.4 MG/MG Oral Gel, 0.04215323269723725\n",
      "Rank 10 : sennosides, USP 8.6 MG Oral Tablet, 0.04072913699800627\n",
      "Rank 11 : Azithromycin 250 MG Oral Tablet, 0.039305041298775274\n",
      "Rank 12 : Insulin Lispro 100 UNT/ML Injectable Solution, 0.0373113073198519\n",
      "Rank 13 : Dyspnea, 0.035887211620620904\n",
      "Rank 14 : benzonatate 100 MG Oral Capsule, 0.03503275420108231\n",
      "Rank 15 : Blood typing, serologic; ABO, 0.032469381942466534\n",
      "Rank 16 : POLYETHYLENE GLYCOL 3350 17000 MG Powder for Oral Solution, 0.03218456280262034\n",
      "Rank 17 : 2 ML Furosemide 10 MG/ML Injection, 0.031045286243235545\n",
      "Rank 18 : Hypoxemia, 0.030190828823696954\n",
      "Rank 19 : Acute hypoxemic respiratory failure, 0.027627456565081174\n",
      "Rank 20 : heparin sodium, porcine 5000 UNT/ML Injectable Solution, 0.025064084306465395\n",
      "Rank 21 : Acute lower respiratory tract infection, 0.023639988607234406\n",
      "Rank 22 : pantoprazole 40 MG Delayed Release Oral Tablet, 0.02307035032754201\n",
      "Rank 23 : Phenylephrine, 0.02307035032754201\n",
      "Rank 24 : Acute renal failure syndrome, 0.022215892908003416\n",
      "Rank 25 : Famotidine 20 MG Oral Tablet, 0.02164625462831102\n",
      "Rank 26 : Methylprednisolone 40 MG Injection, 0.021361435488464826\n",
      "Rank 27 : NDA021457 200 ACTUAT Albuterol 0.09 MG/ACTUAT Metered Dose Inhaler, 0.021361435488464826\n",
      "Rank 28 : Duplex scan of extremity veins including responses to compression and other maneuvers; complete bilateral study, 0.02079179720877243\n",
      "Rank 29 : Docusate Sodium 100 MG Oral Capsule, 0.02079179720877243\n",
      "Rank 30 : Midazolam 1 MG/ML Injectable Solution, 0.020222158929080036\n",
      "Rank 31 : 200 ML Vancomycin 5 MG/ML Injection, 0.019937339789233836\n",
      "Rank 32 : Essential hypertension, 0.019652520649387637\n",
      "Rank 33 : Methylprednisolone 125 MG Injection, 0.01936770150954144\n",
      "Rank 34 : Microencapsulated Potassium Chloride 20 MEQ Extended Release Oral Tablet, 0.019082882369695242\n",
      "Rank 35 : 2 ML Fentanyl 0.05 MG/ML Injection, 0.019082882369695242\n",
      "Rank 36 : doxycycline hyclate 100 MG Oral Capsule, 0.019082882369695242\n",
      "Rank 37 : Melatonin 3 MG Oral Tablet, 0.018513244090002847\n",
      "Rank 38 : Computed tomography, head or brain; without contrast material, 0.01822842495015665\n",
      "Rank 39 : Potassium Chloride 1.33 MEQ/ML Oral Solution, 0.01822842495015665\n",
      "Rank 40 : Cough, 0.017658786670464256\n",
      "Rank 41 : 1 ML Morphine Sulfate 2 MG/ML Cartridge, 0.01708914839077186\n",
      "Rank 42 : 2 ML Famotidine 10 MG/ML Injection, 0.01708914839077186\n",
      "Rank 43 : 50 ML Sodium Chloride 9 MG/ML Injection, 0.01708914839077186\n",
      "Rank 44 : 2 ML Ondansetron 2 MG/ML Injection, 0.016804329250925662\n",
      "Rank 45 : Norepinephrine Injectable Solution, 0.016234690971233267\n",
      "Rank 46 : 1 ML Lorazepam 2 MG/ML Injection, 0.01452577613215608\n",
      "Rank 47 : 1 ML Haloperidol 5 MG/ML Injection, 0.01452577613215608\n",
      "Rank 48 : 2 ML Metoclopramide 5 MG/ML Injection, 0.014240956992309883\n",
      "Rank 49 : Aspirin 81 MG Delayed Release Oral Tablet, 0.014240956992309883\n",
      "Rank 50 : Oxycodone Hydrochloride 5 MG Oral Tablet, 0.013956137852463685\n",
      "Rank 51 : Calcium Gluconate Injectable Solution, 0.013956137852463685\n",
      "Rank 52 : Vancomycin 5 MG/ML Injection, 0.013956137852463685\n",
      "Rank 53 : pantoprazole 40 MG Injection, 0.013671318712617488\n",
      "Rank 54 : 50 ML Glucose 50 MG/ML Injection, 0.013671318712617488\n",
      "Rank 55 : Calcium Chloride 0.0014 MEQ/ML / Potassium Chloride 0.004 MEQ/ML / Sodium Chloride 0.103 MEQ/ML / Sodium Lactate 0.028 MEQ/ML Injectable Solution, 0.013101680432925093\n",
      "Rank 56 : Hydromorphone, 0.013101680432925093\n",
      "Rank 57 : Acetaminophen 650 MG Rectal Suppository, 0.013101680432925093\n",
      "Rank 58 : Disorder of respiratory system, 0.011677584733694105\n",
      "Rank 59 : quetiapine 25 MG Oral Tablet, 0.011392765593847906\n",
      "Rank 60 : Rocuronium, 0.011107946454001708\n",
      "Rank 61 : Sepsis, 0.011107946454001708\n",
      "Rank 62 : Radiologic examination, abdomen; 1 view, 0.01082312731415551\n",
      "Rank 63 : 0.3 ML Enoxaparin sodium 100 MG/ML Prefilled Syringe, 0.01082312731415551\n",
      "Rank 64 : chlorhexidine gluconate 1.2 MG/ML Mouthwash, 0.01082312731415551\n",
      "Rank 65 : rocuronium bromide 10 MG/ML Injectable Solution, 0.01082312731415551\n",
      "Rank 66 : Dextromethorphan Hydrobromide 2 MG/ML / Guaifenesin 20 MG/ML Oral Solution [Robafen DM], 0.01082312731415551\n",
      "Rank 67 : 1 ML Glycopyrrolate 0.2 MG/ML Injection, 0.010538308174309313\n",
      "Rank 68 : Aspirin 81 MG Chewable Tablet, 0.010538308174309313\n",
      "Rank 69 : Amlodipine 5 MG Oral Tablet, 0.010538308174309313\n",
      "Rank 70 : 50 ML Magnesium Sulfate 40 MG/ML Injection, 0.010538308174309313\n",
      "Rank 71 : Disorder of plasma protein metabolism, 0.009968669894616918\n",
      "Rank 72 : 50 ML Dexmedetomidine 0.004 MG/ML Injection, 0.009968669894616918\n",
      "Rank 73 : 100 ML Dexmedetomidine 0.004 MG/ML Injection, 0.009968669894616918\n",
      "Rank 74 : Computed tomography, thorax; with contrast material(s), 0.009968669894616918\n",
      "Rank 75 : 5 ML Metoprolol Tartrate 1 MG/ML Injection, 0.00968385075477072\n",
      "Rank 76 : Lidocaine 0.05 MG/MG Medicated Patch, 0.00968385075477072\n",
      "Rank 77 : 50 ML Potassium Chloride 0.4 MEQ/ML Injection, 0.00968385075477072\n",
      "Rank 78 : General finding of observation of patient, 0.00968385075477072\n",
      "Rank 79 : Melatonin 1 MG Oral Tablet, 0.009114212475078326\n",
      "Rank 80 : Magnesium Oxide 400 MG Oral Tablet, 0.009114212475078326\n",
      "Rank 81 : cefepime 2000 MG Injection, 0.009114212475078326\n",
      "Rank 82 : atorvastatin 20 MG Oral Tablet, 0.009114212475078326\n",
      "Rank 83 : Fever, 0.009114212475078326\n",
      "Rank 84 : Amlodipine 10 MG Oral Tablet, 0.009114212475078326\n",
      "Rank 85 : Disease caused by severe acute respiratory syndrome coronavirus 2, 0.008829393335232128\n",
      "Rank 86 : Guaifenesin 20 MG/ML Oral Solution, 0.008829393335232128\n",
      "Rank 87 : Vasopressin (USP), 0.00854457419538593\n",
      "Rank 88 : Albuterol 0.83 MG/ML Inhalation Solution, 0.00854457419538593\n",
      "Rank 89 : Type 2 diabetes mellitus without complication, 0.008259755055539733\n",
      "Rank 90 : 100 ML Potassium Chloride 0.1 MEQ/ML Injection, 0.007974935915693534\n",
      "Rank 91 : Tamsulosin hydrochloride 0.4 MG Oral Capsule, 0.007974935915693534\n",
      "Rank 92 : Ultrasound, retroperitoneal (eg, renal, aorta, nodes), real time with image documentation; complete, 0.007974935915693534\n",
      "Rank 93 : Mineral Oil 0.15 MG/MG / Petrolatum 0.83 MG/MG Ophthalmic Ointment, 0.007690116775847337\n",
      "Rank 94 : 100 ML Magnesium Sulfate 10 MG/ML Injection, 0.007690116775847337\n",
      "Rank 95 : Sodium Bicarbonate 650 MG Oral Tablet, 0.00740529763600114\n",
      "Rank 96 : Acetaminophen 32 MG/ML Oral Solution, 0.00740529763600114\n",
      "Rank 97 : Ipratropium Bromide 0.2 MG/ML Inhalation Solution, 0.007120478496154941\n",
      "Rank 98 : gabapentin 100 MG Oral Capsule, 0.007120478496154941\n",
      "Rank 99 : Bisacodyl 10 MG Rectal Suppository, 0.007120478496154941\n",
      "Rank 100 : atorvastatin 80 MG Oral Tablet, 0.007120478496154941\n",
      "Rank 101 : Obesity, 0.006835659356308744\n",
      "Rank 102 : atorvastatin 40 MG Oral Tablet, 0.006835659356308744\n",
      "Rank 103 : 120 ACTUAT Budesonide 0.16 MG/ACTUAT / formoterol fumarate 0.0045 MG/ACTUAT Metered Dose Inhaler, 0.006835659356308744\n",
      "Rank 104 : Pneumonia, 0.006835659356308744\n",
      "Rank 105 : Metoprolol Tartrate 25 MG Oral Tablet, 0.006835659356308744\n",
      "Rank 106 : Radiologic examination, chest; 2 views, 0.006550840216462546\n",
      "Rank 107 : Anemia, 0.006550840216462546\n",
      "Rank 108 : 0.8 ML Enoxaparin sodium 100 MG/ML Prefilled Syringe, 0.006550840216462546\n",
      "Rank 109 : 5 ML Fentanyl 0.05 MG/ML Injection, 0.006550840216462546\n",
      "Rank 110 : Ondansetron 4 MG Disintegrating Oral Tablet, 0.006550840216462546\n",
      "Rank 111 : montelukast 10 MG Oral Tablet, 0.006550840216462546\n",
      "Rank 112 : Hyperosmolality and or hypernatremia, 0.006550840216462546\n",
      "Rank 113 : sevelamer carbonate 800 MG Oral Tablet, 0.006550840216462546\n",
      "Rank 114 : Mineral Oil 0.425 MG/MG / Petrolatum 0.568 MG/MG Ophthalmic Ointment, 0.006550840216462546\n",
      "Rank 115 : 1000 ML Glucose 50 MG/ML / Sodium Chloride 4.5 MG/ML Injection, 0.006550840216462546\n",
      "Rank 116 : Elevated levels of transaminase & lactic acid dehydrogenase, 0.006266021076616349\n",
      "Rank 117 : Melatonin 5 MG Oral Tablet, 0.006266021076616349\n",
      "Rank 118 : 150 ML Levofloxacin 5 MG/ML Injection, 0.006266021076616349\n",
      "Rank 119 : potassium phosphate 155 MG / Sodium Phosphate, Dibasic 852 MG / Sodium Phosphate, Monobasic 130 MG Oral Tablet, 0.006266021076616349\n",
      "Rank 120 : 10 ML Calcium Gluconate 100 MG/ML Injection, 0.006266021076616349\n",
      "Rank 121 : Lorazepam 0.5 MG Oral Tablet, 0.006266021076616349\n",
      "Rank 122 : Furosemide 40 MG Oral Tablet, 0.005981201936770151\n",
      "Rank 123 : Labetalol hydrochloride 5 MG/ML Injectable Solution, 0.005981201936770151\n",
      "Rank 124 : Dextromethorphan Hydrobromide 2 MG/ML / Guaifenesin 20 MG/ML Oral Solution, 0.005981201936770151\n",
      "Rank 125 : 100 ML Metronidazole 5 MG/ML Injection, 0.005981201936770151\n",
      "Rank 126 : 50 ML Albumin Human, USP 250 MG/ML Injection [Alburx], 0.005981201936770151\n",
      "Rank 127 : Shock, 0.005981201936770151\n",
      "Rank 128 : Zolpidem tartrate 5 MG Oral Tablet, 0.005696382796923953\n",
      "Rank 129 : Altered mental status, 0.005696382796923953\n",
      "Rank 130 : Hyperlipidemia, 0.005696382796923953\n",
      "Rank 131 : Docusate Sodium 10 MG/ML Oral Suspension, 0.005411563657077755\n",
      "Rank 132 : Duplex scan of extremity veins including responses to compression and other maneuvers; unilateral or limited study, 0.005411563657077755\n",
      "Rank 133 : Chlordiazepoxide Hydrochloride 25 MG Oral Capsule, 0.005411563657077755\n",
      "Rank 134 : Loperamide Hydrochloride 2 MG Oral Capsule, 0.005411563657077755\n",
      "Rank 135 : 1 ML Morphine Sulfate 4 MG/ML Prefilled Syringe, 0.005411563657077755\n",
      "Rank 136 : Prednisone 20 MG Oral Tablet, 0.005411563657077755\n",
      "Rank 137 : Low blood pressure, 0.005411563657077755\n",
      "Rank 138 : Lidocaine Hydrochloride 10 MG/ML Injectable Solution, 0.005411563657077755\n",
      "Rank 139 : 250 ML heparin sodium, porcine 100 UNT/ML Injection, 0.005126744517231558\n",
      "Rank 140 : quetiapine 50 MG Oral Tablet, 0.005126744517231558\n",
      "Rank 141 : heparin sodium, porcine 10 UNT/ML Injectable Solution, 0.005126744517231558\n",
      "Rank 142 : Bacterial pneumonia, 0.005126744517231558\n",
      "Rank 143 : Sodium Chloride 0.111 MEQ/ML Nasal Spray, 0.005126744517231558\n",
      "Rank 144 : Lorazepam 1 MG Oral Tablet, 0.005126744517231558\n",
      "Rank 145 : Hyperkalemia, 0.005126744517231558\n",
      "Rank 146 : Furosemide 20 MG Oral Tablet, 0.005126744517231558\n",
      "Rank 147 : atorvastatin 10 MG Oral Tablet, 0.00484192537738536\n",
      "Rank 148 : carvedilol 12.5 MG Oral Tablet, 0.00484192537738536\n",
      "Rank 149 : 1 ML Hydralazine Hydrochloride 20 MG/ML Injection, 0.004557106237539163\n",
      "Rank 150 : 2 ML Prochlorperazine 5 MG/ML Injection, 0.004557106237539163\n",
      "Rank 151 : Acute respiratory distress syndrome, 0.004557106237539163\n",
      "Rank 152 : Simethicone 80 MG Chewable Tablet, 0.004557106237539163\n",
      "Rank 153 : Hypo-osmolality and or hyponatremia, 0.004557106237539163\n",
      "Rank 154 : Chest pain, 0.004557106237539163\n",
      "Rank 155 : Midazolam 5 MG/ML Injectable Solution, 0.004557106237539163\n",
      "Rank 156 : Ondansetron 4 MG Oral Tablet, 0.004557106237539163\n",
      "Rank 157 : 20 ML Propofol 10 MG/ML Injection, 0.004272287097692965\n",
      "Rank 158 : 50 ML Sodium Chloride 4.5 MG/ML Injection, 0.004272287097692965\n",
      "Rank 159 : gabapentin 300 MG Oral Capsule, 0.004272287097692965\n",
      "Rank 160 : Folic Acid 1 MG Oral Tablet, 0.004272287097692965\n",
      "Rank 161 : sevelamer carbonate 800 MG Powder for Oral Suspension, 0.004272287097692965\n",
      "Rank 162 : ferrous sulfate 325 MG Oral Tablet, 0.004272287097692965\n",
      "Rank 163 : Patient status finding, 0.003987467957846767\n",
      "Rank 164 : Radiologic examination, abdomen; 3 or more views, 0.003987467957846767\n",
      "Rank 165 : Blood chemistry abnormal, 0.003987467957846767\n",
      "Rank 166 : Ultrasound, abdominal, real time with image documentation; complete, 0.003987467957846767\n",
      "Rank 167 : heparin sodium, porcine 1000 UNT/ML Injectable Solution, 0.003987467957846767\n",
      "Rank 168 : Lactulose 667 MG/ML Oral Solution, 0.003987467957846767\n",
      "Rank 169 : Metoprolol Tartrate 50 MG Oral Tablet, 0.00370264881800057\n",
      "Rank 170 : Diphenhydramine Hydrochloride 50 MG/ML Injectable Solution, 0.00370264881800057\n",
      "Rank 171 : Ultrasound, abdominal, real time with image documentation; limited (eg, single organ, quadrant, follow-up), 0.00370264881800057\n",
      "Rank 172 : 2 ML Lidocaine Hydrochloride 10 MG/ML Injection, 0.00370264881800057\n",
      "Rank 173 : Norepinephrine, 0.00370264881800057\n",
      "Rank 174 : Type 2 diabetes mellitus, 0.00370264881800057\n",
      "Rank 175 : Septic shock, 0.003417829678154372\n",
      "Rank 176 : Drug test(s), presumptive, any number of drug classes, any number of devices or procedures; by instrument chemistry analyzers (eg, utilizing immunoassay [eg, EIA, ELISA, EMIT, FPIA, IA, KIMS, RIA]), chromatography (eg, GC, HPLC), and mass spectrometry eit, 0.003417829678154372\n",
      "Rank 177 : Acute respiratory distress, 0.003417829678154372\n",
      "Rank 178 : Epinephrine, 0.003417829678154372\n",
      "Rank 179 : {3 (Azithromycin 500 MG Oral Tablet) } Pack, 0.003417829678154372\n",
      "Rank 180 : Electrocardiogram abnormal, 0.0031330105383081744\n",
      "Rank 181 : 24 HR metoprolol succinate 25 MG Extended Release Oral Tablet, 0.0031330105383081744\n",
      "Rank 182 : Atherosclerosis of coronary artery without angina pectoris, 0.0031330105383081744\n",
      "Rank 183 : Calcium Chloride 0.001 MEQ/ML / Glucose 50 MG/ML / Potassium Chloride 0.004 MEQ/ML / Sodium Chloride 0.103 MEQ/ML / Sodium Lactate 0.028 MEQ/ML Injectable Solution, 0.0031330105383081744\n",
      "Rank 184 : Tachycardia, 0.0031330105383081744\n",
      "Rank 185 : 0.6 ML Enoxaparin sodium 100 MG/ML Prefilled Syringe, 0.0028481913984619764\n",
      "Rank 186 : Thiamine 100 MG Oral Tablet, 0.0028481913984619764\n",
      "Rank 187 : Hyperglycemia, 0.0028481913984619764\n",
      "Rank 188 : Thrombocytopenic disorder, 0.002563372258615779\n",
      "Rank 189 : Metformin hydrochloride 500 MG Oral Tablet, 0.002563372258615779\n",
      "Rank 190 : latanoprost 0.05 MG/ML Ophthalmic Solution, 0.002563372258615779\n",
      "Rank 191 : clopidogrel 75 MG Oral Tablet, 0.002563372258615779\n",
      "Rank 192 : 24 HR metoprolol succinate 50 MG Extended Release Oral Tablet, 0.002563372258615779\n",
      "Rank 193 : 10 ML Epinephrine 0.1 MG/ML Prefilled Syringe, 0.0022785531187695814\n",
      "Rank 194 : Prednisone 10 MG Oral Tablet, 0.0022785531187695814\n",
      "Rank 195 : cefpodoxime 200 MG Oral Tablet, 0.0022785531187695814\n",
      "Rank 196 : Metolazone 5 MG Oral Tablet, 0.0022785531187695814\n",
      "Rank 197 : Trazodone Hydrochloride 50 MG Oral Tablet, 0.0022785531187695814\n",
      "Rank 198 : Nystatin 100000 UNT/ML Oral Suspension, 0.0019937339789233835\n",
      "Rank 199 : Loperamide Hydrochloride 2 MG Oral Tablet, 0.0019937339789233835\n",
      "Rank 200 : tramadol hydrochloride 50 MG Oral Tablet, 0.001708914839077186\n",
      "Rank 201 : 100 ML Albumin Human, USP 50 MG/ML Injection, 0.001708914839077186\n",
      "Rank 202 : Losartan Potassium 50 MG Oral Tablet, 0.0014240956992309882\n"
     ]
    }
   ],
   "source": [
    "get_pair_rank(covid_pair_prevalence_dict, concept_definition_dict, 261326)"
   ]
  }
 ],
 "metadata": {
  "kernelspec": {
   "display_name": "python3-workspace",
   "language": "python",
   "name": "python3-workspace"
  },
  "language_info": {
   "codemirror_mode": {
    "name": "ipython",
    "version": 3
   },
   "file_extension": ".py",
   "mimetype": "text/x-python",
   "name": "python",
   "nbconvert_exporter": "python",
   "pygments_lexer": "ipython3",
   "version": "3.6.9"
  }
 },
 "nbformat": 4,
 "nbformat_minor": 4
}
